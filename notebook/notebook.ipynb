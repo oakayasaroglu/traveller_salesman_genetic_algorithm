{
 "cells": [
  {
   "cell_type": "code",
   "execution_count": 1,
   "id": "d45902c7",
   "metadata": {
    "id": "d45902c7"
   },
   "outputs": [],
   "source": [
    "import random\n",
    "import numpy as np\n",
    "import pandas as pd\n",
    "import matplotlib.pyplot as plt\n",
    "import time\n",
    "\n",
    "from numpy.random import default_rng\n",
    "rng = default_rng()\n",
    "\n",
    "NUMBER_OF_CITIES = 7"
   ]
  },
  {
   "cell_type": "code",
   "execution_count": 2,
   "id": "921f9120",
   "metadata": {
    "colab": {
     "base_uri": "https://localhost:8080/",
     "height": 305
    },
    "id": "921f9120",
    "outputId": "dd45b7d6-7eec-4d13-9d4a-cf87ab89f116"
   },
   "outputs": [
    {
     "data": {
      "text/html": [
       "<div>\n",
       "<style scoped>\n",
       "    .dataframe tbody tr th:only-of-type {\n",
       "        vertical-align: middle;\n",
       "    }\n",
       "\n",
       "    .dataframe tbody tr th {\n",
       "        vertical-align: top;\n",
       "    }\n",
       "\n",
       "    .dataframe thead th {\n",
       "        text-align: right;\n",
       "    }\n",
       "</style>\n",
       "<table border=\"1\" class=\"dataframe\">\n",
       "  <thead>\n",
       "    <tr style=\"text-align: right;\">\n",
       "      <th></th>\n",
       "      <th>Geoname ID</th>\n",
       "      <th>Name</th>\n",
       "      <th>ASCII Name</th>\n",
       "      <th>Alternate Names</th>\n",
       "      <th>Feature Class</th>\n",
       "      <th>Feature Code</th>\n",
       "      <th>Country Code</th>\n",
       "      <th>Country name EN</th>\n",
       "      <th>Country Code 2</th>\n",
       "      <th>Admin1 Code</th>\n",
       "      <th>Admin2 Code</th>\n",
       "      <th>Admin3 Code</th>\n",
       "      <th>Admin4 Code</th>\n",
       "      <th>Population</th>\n",
       "      <th>Elevation</th>\n",
       "      <th>DIgital Elevation Model</th>\n",
       "      <th>Timezone</th>\n",
       "      <th>Modification date</th>\n",
       "      <th>LABEL EN</th>\n",
       "      <th>Coordinates</th>\n",
       "    </tr>\n",
       "  </thead>\n",
       "  <tbody>\n",
       "    <tr>\n",
       "      <th>0</th>\n",
       "      <td>304531</td>\n",
       "      <td>Mersin</td>\n",
       "      <td>Mersin</td>\n",
       "      <td>Icel,Mersin,Mersina,Mersine,Merson,Mersyna,Myr...</td>\n",
       "      <td>P</td>\n",
       "      <td>PPLA</td>\n",
       "      <td>TR</td>\n",
       "      <td>Turkey</td>\n",
       "      <td>NaN</td>\n",
       "      <td>32</td>\n",
       "      <td>NaN</td>\n",
       "      <td>NaN</td>\n",
       "      <td>NaN</td>\n",
       "      <td>537842</td>\n",
       "      <td>NaN</td>\n",
       "      <td>10</td>\n",
       "      <td>Europe/Istanbul</td>\n",
       "      <td>2017-11-10</td>\n",
       "      <td>Turkey</td>\n",
       "      <td>36.81196,34.63886</td>\n",
       "    </tr>\n",
       "    <tr>\n",
       "      <th>1</th>\n",
       "      <td>746425</td>\n",
       "      <td>Gümüşhane</td>\n",
       "      <td>Gumushane</td>\n",
       "      <td>Argyroupoli,Gjumjushane,Guemueshane,Gumusane,G...</td>\n",
       "      <td>P</td>\n",
       "      <td>PPLA</td>\n",
       "      <td>TR</td>\n",
       "      <td>Turkey</td>\n",
       "      <td>NaN</td>\n",
       "      <td>69</td>\n",
       "      <td>NaN</td>\n",
       "      <td>NaN</td>\n",
       "      <td>NaN</td>\n",
       "      <td>32250</td>\n",
       "      <td>NaN</td>\n",
       "      <td>1180</td>\n",
       "      <td>Europe/Istanbul</td>\n",
       "      <td>2020-07-09</td>\n",
       "      <td>Turkey</td>\n",
       "      <td>40.46001,39.47176</td>\n",
       "    </tr>\n",
       "    <tr>\n",
       "      <th>2</th>\n",
       "      <td>316541</td>\n",
       "      <td>Diyarbakır</td>\n",
       "      <td>Diyarbakir</td>\n",
       "      <td>Amed,Amida,DIY,Diarbekir,Diarbekr,Diari-Bekir,...</td>\n",
       "      <td>P</td>\n",
       "      <td>PPLA</td>\n",
       "      <td>TR</td>\n",
       "      <td>Turkey</td>\n",
       "      <td>NaN</td>\n",
       "      <td>21</td>\n",
       "      <td>NaN</td>\n",
       "      <td>NaN</td>\n",
       "      <td>NaN</td>\n",
       "      <td>644763</td>\n",
       "      <td>NaN</td>\n",
       "      <td>674</td>\n",
       "      <td>Europe/Istanbul</td>\n",
       "      <td>2020-06-10</td>\n",
       "      <td>Turkey</td>\n",
       "      <td>37.91363,40.21721</td>\n",
       "    </tr>\n",
       "    <tr>\n",
       "      <th>3</th>\n",
       "      <td>750516</td>\n",
       "      <td>Bolu</td>\n",
       "      <td>Bolu</td>\n",
       "      <td>Balu,Boli,Bolou,Bolu,Claudiopolis,bo lu,bollu,...</td>\n",
       "      <td>P</td>\n",
       "      <td>PPLA</td>\n",
       "      <td>TR</td>\n",
       "      <td>Turkey</td>\n",
       "      <td>NaN</td>\n",
       "      <td>14</td>\n",
       "      <td>NaN</td>\n",
       "      <td>NaN</td>\n",
       "      <td>NaN</td>\n",
       "      <td>96629</td>\n",
       "      <td>NaN</td>\n",
       "      <td>733</td>\n",
       "      <td>Europe/Istanbul</td>\n",
       "      <td>2019-09-05</td>\n",
       "      <td>Turkey</td>\n",
       "      <td>40.73583,31.60611</td>\n",
       "    </tr>\n",
       "    <tr>\n",
       "      <th>4</th>\n",
       "      <td>311046</td>\n",
       "      <td>İzmir</td>\n",
       "      <td>Izmir</td>\n",
       "      <td>Azmir,Esmirna,IZM,Ismir,Izmir,Izmira,Izmiras,I...</td>\n",
       "      <td>P</td>\n",
       "      <td>PPLA</td>\n",
       "      <td>TR</td>\n",
       "      <td>Turkey</td>\n",
       "      <td>NaN</td>\n",
       "      <td>35</td>\n",
       "      <td>NaN</td>\n",
       "      <td>NaN</td>\n",
       "      <td>NaN</td>\n",
       "      <td>2500603</td>\n",
       "      <td>NaN</td>\n",
       "      <td>122</td>\n",
       "      <td>Europe/Istanbul</td>\n",
       "      <td>2020-06-10</td>\n",
       "      <td>Turkey</td>\n",
       "      <td>38.41273,27.13838</td>\n",
       "    </tr>\n",
       "  </tbody>\n",
       "</table>\n",
       "</div>"
      ],
      "text/plain": [
       "   Geoname ID        Name  ASCII Name  \\\n",
       "0      304531      Mersin      Mersin   \n",
       "1      746425   Gümüşhane   Gumushane   \n",
       "2      316541  Diyarbakır  Diyarbakir   \n",
       "3      750516        Bolu        Bolu   \n",
       "4      311046       İzmir       Izmir   \n",
       "\n",
       "                                     Alternate Names Feature Class  \\\n",
       "0  Icel,Mersin,Mersina,Mersine,Merson,Mersyna,Myr...             P   \n",
       "1  Argyroupoli,Gjumjushane,Guemueshane,Gumusane,G...             P   \n",
       "2  Amed,Amida,DIY,Diarbekir,Diarbekr,Diari-Bekir,...             P   \n",
       "3  Balu,Boli,Bolou,Bolu,Claudiopolis,bo lu,bollu,...             P   \n",
       "4  Azmir,Esmirna,IZM,Ismir,Izmir,Izmira,Izmiras,I...             P   \n",
       "\n",
       "  Feature Code Country Code Country name EN  Country Code 2  Admin1 Code  \\\n",
       "0         PPLA           TR          Turkey             NaN           32   \n",
       "1         PPLA           TR          Turkey             NaN           69   \n",
       "2         PPLA           TR          Turkey             NaN           21   \n",
       "3         PPLA           TR          Turkey             NaN           14   \n",
       "4         PPLA           TR          Turkey             NaN           35   \n",
       "\n",
       "   Admin2 Code  Admin3 Code  Admin4 Code  Population  Elevation  \\\n",
       "0          NaN          NaN          NaN      537842        NaN   \n",
       "1          NaN          NaN          NaN       32250        NaN   \n",
       "2          NaN          NaN          NaN      644763        NaN   \n",
       "3          NaN          NaN          NaN       96629        NaN   \n",
       "4          NaN          NaN          NaN     2500603        NaN   \n",
       "\n",
       "   DIgital Elevation Model         Timezone Modification date LABEL EN  \\\n",
       "0                       10  Europe/Istanbul        2017-11-10   Turkey   \n",
       "1                     1180  Europe/Istanbul        2020-07-09   Turkey   \n",
       "2                      674  Europe/Istanbul        2020-06-10   Turkey   \n",
       "3                      733  Europe/Istanbul        2019-09-05   Turkey   \n",
       "4                      122  Europe/Istanbul        2020-06-10   Turkey   \n",
       "\n",
       "         Coordinates  \n",
       "0  36.81196,34.63886  \n",
       "1  40.46001,39.47176  \n",
       "2  37.91363,40.21721  \n",
       "3  40.73583,31.60611  \n",
       "4  38.41273,27.13838  "
      ]
     },
     "execution_count": 2,
     "metadata": {},
     "output_type": "execute_result"
    }
   ],
   "source": [
    "df = pd.read_csv('dataset.csv', delimiter= \";\")\n",
    "df.head()"
   ]
  },
  {
   "cell_type": "code",
   "execution_count": 3,
   "id": "049fa8e2",
   "metadata": {
    "colab": {
     "base_uri": "https://localhost:8080/"
    },
    "id": "049fa8e2",
    "outputId": "593299e5-8400-478c-e26f-2a8bd994e5d9"
   },
   "outputs": [
    {
     "name": "stdout",
     "output_type": "stream",
     "text": [
      "['Geoname ID', 'Name', 'ASCII Name', 'Alternate Names', 'Feature Class', 'Feature Code', 'Country Code', 'Country name EN', 'Country Code 2', 'Admin1 Code', 'Admin2 Code', 'Admin3 Code', 'Admin4 Code', 'Population', 'Elevation', 'DIgital Elevation Model', 'Timezone', 'Modification date', 'LABEL EN', 'Coordinates']\n"
     ]
    }
   ],
   "source": [
    "# get column names\n",
    "column_names = []\n",
    "for col in df.columns:\n",
    "    column_names.append(col)\n",
    "print(column_names)"
   ]
  },
  {
   "cell_type": "code",
   "execution_count": 4,
   "id": "7d33105d",
   "metadata": {
    "id": "7d33105d"
   },
   "outputs": [],
   "source": [
    "# create the list of columns will be deleted\n",
    "columns2delete = []\n",
    "for col in column_names:\n",
    "    if(col!='Name' and col!='Coordinates'):\n",
    "        columns2delete.append(col) \n",
    "        \n",
    "df = df.drop(columns2delete, axis=1)"
   ]
  },
  {
   "cell_type": "code",
   "execution_count": 5,
   "id": "53d1d90f",
   "metadata": {
    "colab": {
     "base_uri": "https://localhost:8080/",
     "height": 206
    },
    "id": "53d1d90f",
    "outputId": "02d5efd2-810f-4de3-c9f0-0f9a1068dd3d"
   },
   "outputs": [
    {
     "data": {
      "text/html": [
       "<div>\n",
       "<style scoped>\n",
       "    .dataframe tbody tr th:only-of-type {\n",
       "        vertical-align: middle;\n",
       "    }\n",
       "\n",
       "    .dataframe tbody tr th {\n",
       "        vertical-align: top;\n",
       "    }\n",
       "\n",
       "    .dataframe thead th {\n",
       "        text-align: right;\n",
       "    }\n",
       "</style>\n",
       "<table border=\"1\" class=\"dataframe\">\n",
       "  <thead>\n",
       "    <tr style=\"text-align: right;\">\n",
       "      <th></th>\n",
       "      <th>Name</th>\n",
       "      <th>Coordinates</th>\n",
       "    </tr>\n",
       "  </thead>\n",
       "  <tbody>\n",
       "    <tr>\n",
       "      <th>0</th>\n",
       "      <td>Mersin</td>\n",
       "      <td>36.81196,34.63886</td>\n",
       "    </tr>\n",
       "    <tr>\n",
       "      <th>1</th>\n",
       "      <td>Gümüşhane</td>\n",
       "      <td>40.46001,39.47176</td>\n",
       "    </tr>\n",
       "    <tr>\n",
       "      <th>2</th>\n",
       "      <td>Diyarbakır</td>\n",
       "      <td>37.91363,40.21721</td>\n",
       "    </tr>\n",
       "    <tr>\n",
       "      <th>3</th>\n",
       "      <td>Bolu</td>\n",
       "      <td>40.73583,31.60611</td>\n",
       "    </tr>\n",
       "    <tr>\n",
       "      <th>4</th>\n",
       "      <td>İzmir</td>\n",
       "      <td>38.41273,27.13838</td>\n",
       "    </tr>\n",
       "  </tbody>\n",
       "</table>\n",
       "</div>"
      ],
      "text/plain": [
       "         Name        Coordinates\n",
       "0      Mersin  36.81196,34.63886\n",
       "1   Gümüşhane  40.46001,39.47176\n",
       "2  Diyarbakır  37.91363,40.21721\n",
       "3        Bolu  40.73583,31.60611\n",
       "4       İzmir  38.41273,27.13838"
      ]
     },
     "execution_count": 5,
     "metadata": {},
     "output_type": "execute_result"
    }
   ],
   "source": [
    "df.head()"
   ]
  },
  {
   "cell_type": "code",
   "execution_count": 6,
   "id": "a2b1d744",
   "metadata": {
    "colab": {
     "base_uri": "https://localhost:8080/",
     "height": 206
    },
    "id": "a2b1d744",
    "outputId": "38c1b515-cab9-4617-afe1-d2eab81cb40b"
   },
   "outputs": [
    {
     "data": {
      "text/html": [
       "<div>\n",
       "<style scoped>\n",
       "    .dataframe tbody tr th:only-of-type {\n",
       "        vertical-align: middle;\n",
       "    }\n",
       "\n",
       "    .dataframe tbody tr th {\n",
       "        vertical-align: top;\n",
       "    }\n",
       "\n",
       "    .dataframe thead th {\n",
       "        text-align: right;\n",
       "    }\n",
       "</style>\n",
       "<table border=\"1\" class=\"dataframe\">\n",
       "  <thead>\n",
       "    <tr style=\"text-align: right;\">\n",
       "      <th></th>\n",
       "      <th>Name</th>\n",
       "      <th>Coordinates</th>\n",
       "    </tr>\n",
       "  </thead>\n",
       "  <tbody>\n",
       "    <tr>\n",
       "      <th>75</th>\n",
       "      <td>Manisa</td>\n",
       "      <td>38.61202,27.42647</td>\n",
       "    </tr>\n",
       "    <tr>\n",
       "      <th>76</th>\n",
       "      <td>Kütahya</td>\n",
       "      <td>39.42417,29.98333</td>\n",
       "    </tr>\n",
       "    <tr>\n",
       "      <th>77</th>\n",
       "      <td>Tekirdağ</td>\n",
       "      <td>40.9781,27.51101</td>\n",
       "    </tr>\n",
       "    <tr>\n",
       "      <th>78</th>\n",
       "      <td>Hakkâri</td>\n",
       "      <td>37.57444,43.74083</td>\n",
       "    </tr>\n",
       "    <tr>\n",
       "      <th>79</th>\n",
       "      <td>Adıyaman</td>\n",
       "      <td>37.76441,38.27629</td>\n",
       "    </tr>\n",
       "  </tbody>\n",
       "</table>\n",
       "</div>"
      ],
      "text/plain": [
       "        Name        Coordinates\n",
       "75    Manisa  38.61202,27.42647\n",
       "76   Kütahya  39.42417,29.98333\n",
       "77  Tekirdağ   40.9781,27.51101\n",
       "78   Hakkâri  37.57444,43.74083\n",
       "79  Adıyaman  37.76441,38.27629"
      ]
     },
     "execution_count": 6,
     "metadata": {},
     "output_type": "execute_result"
    }
   ],
   "source": [
    "df.tail()"
   ]
  },
  {
   "cell_type": "code",
   "execution_count": 7,
   "id": "6046c03a",
   "metadata": {
    "id": "6046c03a"
   },
   "outputs": [],
   "source": [
    "# getting row number of dataset\n",
    "number_of_rows = len(df.index)\n",
    "# randomly choose cities\n",
    "cities_indices = random.sample(range(number_of_rows), NUMBER_OF_CITIES)\n",
    "cities = df.iloc[cities_indices]\n",
    "# recreate indices\n",
    "cities.index = np.arange(NUMBER_OF_CITIES)"
   ]
  },
  {
   "cell_type": "code",
   "execution_count": 8,
   "id": "6dc98f65",
   "metadata": {
    "colab": {
     "base_uri": "https://localhost:8080/",
     "height": 269
    },
    "id": "6dc98f65",
    "outputId": "b1fe8fda-88ad-4adc-865b-091f0a4eb60e",
    "scrolled": true
   },
   "outputs": [
    {
     "data": {
      "text/html": [
       "<div>\n",
       "<style scoped>\n",
       "    .dataframe tbody tr th:only-of-type {\n",
       "        vertical-align: middle;\n",
       "    }\n",
       "\n",
       "    .dataframe tbody tr th {\n",
       "        vertical-align: top;\n",
       "    }\n",
       "\n",
       "    .dataframe thead th {\n",
       "        text-align: right;\n",
       "    }\n",
       "</style>\n",
       "<table border=\"1\" class=\"dataframe\">\n",
       "  <thead>\n",
       "    <tr style=\"text-align: right;\">\n",
       "      <th></th>\n",
       "      <th>Name</th>\n",
       "      <th>Coordinates</th>\n",
       "    </tr>\n",
       "  </thead>\n",
       "  <tbody>\n",
       "    <tr>\n",
       "      <th>0</th>\n",
       "      <td>Kırklareli</td>\n",
       "      <td>41.73508,27.22521</td>\n",
       "    </tr>\n",
       "    <tr>\n",
       "      <th>1</th>\n",
       "      <td>Siirt</td>\n",
       "      <td>37.9293,41.94134</td>\n",
       "    </tr>\n",
       "    <tr>\n",
       "      <th>2</th>\n",
       "      <td>Adapazarı</td>\n",
       "      <td>40.78056,30.40333</td>\n",
       "    </tr>\n",
       "    <tr>\n",
       "      <th>3</th>\n",
       "      <td>Sinop</td>\n",
       "      <td>42.02683,35.16253</td>\n",
       "    </tr>\n",
       "    <tr>\n",
       "      <th>4</th>\n",
       "      <td>Giresun</td>\n",
       "      <td>40.91698,38.38741</td>\n",
       "    </tr>\n",
       "    <tr>\n",
       "      <th>5</th>\n",
       "      <td>Adıyaman</td>\n",
       "      <td>37.76441,38.27629</td>\n",
       "    </tr>\n",
       "    <tr>\n",
       "      <th>6</th>\n",
       "      <td>Şırnak</td>\n",
       "      <td>37.51393,42.45432</td>\n",
       "    </tr>\n",
       "  </tbody>\n",
       "</table>\n",
       "</div>"
      ],
      "text/plain": [
       "         Name        Coordinates\n",
       "0  Kırklareli  41.73508,27.22521\n",
       "1       Siirt   37.9293,41.94134\n",
       "2   Adapazarı  40.78056,30.40333\n",
       "3       Sinop  42.02683,35.16253\n",
       "4     Giresun  40.91698,38.38741\n",
       "5    Adıyaman  37.76441,38.27629\n",
       "6      Şırnak  37.51393,42.45432"
      ]
     },
     "execution_count": 8,
     "metadata": {},
     "output_type": "execute_result"
    }
   ],
   "source": [
    "cities.head(NUMBER_OF_CITIES)"
   ]
  },
  {
   "cell_type": "code",
   "execution_count": 9,
   "id": "eaede622",
   "metadata": {
    "colab": {
     "base_uri": "https://localhost:8080/"
    },
    "id": "eaede622",
    "outputId": "e092bd8e-4723-4749-c711-93da63be0512"
   },
   "outputs": [
    {
     "name": "stdout",
     "output_type": "stream",
     "text": [
      "[27.22521, 41.94134, 30.40333, 35.16253, 38.38741, 38.27629, 42.45432]\n",
      "[41.73508, 37.9293, 40.78056, 42.02683, 40.91698, 37.76441, 37.51393]\n"
     ]
    }
   ],
   "source": [
    "# parse coordinates from dataset\n",
    "apsis = []\n",
    "ordinat = []\n",
    "for city in range(len(cities)):\n",
    "    corr = cities.iloc[city]['Coordinates']\n",
    "    temp_apsis = []\n",
    "    temp_ordinat = []\n",
    "    comma_detected = False\n",
    "    for letter in corr:\n",
    "        if letter == ',':\n",
    "            comma_detected = True\n",
    "            continue\n",
    "            \n",
    "        if comma_detected == False:\n",
    "            temp_ordinat.append(letter)\n",
    "        else:\n",
    "            temp_apsis.append(letter)\n",
    "    apsis.append(''.join(temp_apsis))\n",
    "    ordinat.append(''.join(temp_ordinat))\n",
    "xcord = [eval(i) for i in apsis]\n",
    "ycord = [eval(i) for i in ordinat]\n",
    "print(xcord)\n",
    "print(ycord)"
   ]
  },
  {
   "cell_type": "code",
   "execution_count": 10,
   "id": "3c54984f",
   "metadata": {
    "colab": {
     "base_uri": "https://localhost:8080/",
     "height": 483
    },
    "id": "3c54984f",
    "outputId": "1d81d477-f810-45b5-bb58-2702f3b740f2"
   },
   "outputs": [
    {
     "data": {
      "image/png": "[encoded data removed]",
      "text/plain": [
       "<Figure size 800x800 with 1 Axes>"
      ]
     },
     "metadata": {},
     "output_type": "display_data"
    }
   ],
   "source": [
    "# plot cities and initial route\n",
    "\n",
    "# edit figure size\n",
    "f = plt.figure()\n",
    "f.set_figwidth(8)\n",
    "f.set_figheight(8)\n",
    "\n",
    "# line between spots \n",
    "for i in range(0, len(xcord), 1):\n",
    "    plt.plot(xcord[i:i+3], ycord[i:i+3], 'ro-')\n",
    "    plt.annotate(cities.iloc[i]['Name'],(xcord[i], ycord[i])) # write city names\n",
    "\n",
    "plt.show()"
   ]
  },
  {
   "cell_type": "code",
   "execution_count": 11,
   "id": "e9445eb9",
   "metadata": {
    "id": "e9445eb9"
   },
   "outputs": [],
   "source": [
    "# 0 to N, non-repeating random number generator function\n",
    "## \"the minimum number=0\" and \"the maximum number = (number_of_elements-1)\" \n",
    "## for example if the number_of_elements=7, \"the minimum number=0\", \"the maximum number=6\"\n",
    "\n",
    "def non_repeating_random_number_generator_zero_to_N(number_of_elements):\n",
    "    numbers = rng.choice(number_of_elements, size=number_of_elements, replace=False)\n",
    "    return np.array(numbers)"
   ]
  },
  {
   "cell_type": "code",
   "execution_count": 12,
   "id": "159c0ee6",
   "metadata": {
    "colab": {
     "base_uri": "https://localhost:8080/",
     "height": 286
    },
    "id": "159c0ee6",
    "outputId": "9fc0e75a-776f-4ea6-ebc2-bdb5e140d8d7"
   },
   "outputs": [
    {
     "name": "stdout",
     "output_type": "stream",
     "text": [
      "[3 6 4 0 2 1 5]\n"
     ]
    },
    {
     "data": {
      "text/html": [
       "<div>\n",
       "<style scoped>\n",
       "    .dataframe tbody tr th:only-of-type {\n",
       "        vertical-align: middle;\n",
       "    }\n",
       "\n",
       "    .dataframe tbody tr th {\n",
       "        vertical-align: top;\n",
       "    }\n",
       "\n",
       "    .dataframe thead th {\n",
       "        text-align: right;\n",
       "    }\n",
       "</style>\n",
       "<table border=\"1\" class=\"dataframe\">\n",
       "  <thead>\n",
       "    <tr style=\"text-align: right;\">\n",
       "      <th></th>\n",
       "      <th>Name</th>\n",
       "      <th>Coordinates</th>\n",
       "    </tr>\n",
       "  </thead>\n",
       "  <tbody>\n",
       "    <tr>\n",
       "      <th>3</th>\n",
       "      <td>Sinop</td>\n",
       "      <td>42.02683,35.16253</td>\n",
       "    </tr>\n",
       "    <tr>\n",
       "      <th>6</th>\n",
       "      <td>Şırnak</td>\n",
       "      <td>37.51393,42.45432</td>\n",
       "    </tr>\n",
       "    <tr>\n",
       "      <th>4</th>\n",
       "      <td>Giresun</td>\n",
       "      <td>40.91698,38.38741</td>\n",
       "    </tr>\n",
       "    <tr>\n",
       "      <th>0</th>\n",
       "      <td>Kırklareli</td>\n",
       "      <td>41.73508,27.22521</td>\n",
       "    </tr>\n",
       "    <tr>\n",
       "      <th>2</th>\n",
       "      <td>Adapazarı</td>\n",
       "      <td>40.78056,30.40333</td>\n",
       "    </tr>\n",
       "    <tr>\n",
       "      <th>1</th>\n",
       "      <td>Siirt</td>\n",
       "      <td>37.9293,41.94134</td>\n",
       "    </tr>\n",
       "    <tr>\n",
       "      <th>5</th>\n",
       "      <td>Adıyaman</td>\n",
       "      <td>37.76441,38.27629</td>\n",
       "    </tr>\n",
       "  </tbody>\n",
       "</table>\n",
       "</div>"
      ],
      "text/plain": [
       "         Name        Coordinates\n",
       "3       Sinop  42.02683,35.16253\n",
       "6      Şırnak  37.51393,42.45432\n",
       "4     Giresun  40.91698,38.38741\n",
       "0  Kırklareli  41.73508,27.22521\n",
       "2   Adapazarı  40.78056,30.40333\n",
       "1       Siirt   37.9293,41.94134\n",
       "5    Adıyaman  37.76441,38.27629"
      ]
     },
     "execution_count": 12,
     "metadata": {},
     "output_type": "execute_result"
    }
   ],
   "source": [
    "nrrng = non_repeating_random_number_generator_zero_to_N(NUMBER_OF_CITIES)\n",
    "print(nrrng)\n",
    "cities.reindex(nrrng)"
   ]
  },
  {
   "cell_type": "code",
   "execution_count": 13,
   "id": "11c04d5d",
   "metadata": {
    "id": "11c04d5d"
   },
   "outputs": [],
   "source": [
    "def coordinate_parser(route):\n",
    "    cities.reindex(route)\n",
    "    xcord = []\n",
    "    ycord = []\n",
    "    apsis = []\n",
    "    ordinat = []\n",
    "    for city in route:\n",
    "        coordinate = cities.iloc[city]['Coordinates']\n",
    "        \n",
    "        temp_apsis   =  []\n",
    "        temp_ordinat =  []\n",
    "        comma_detected = False\n",
    "        for letter in coordinate:\n",
    "            if letter == ',':\n",
    "                comma_detected = True\n",
    "                continue\n",
    "            if comma_detected == False:\n",
    "                temp_ordinat.append(letter)\n",
    "            else:\n",
    "                temp_apsis.append(letter)\n",
    "        apsis.append(''.join(temp_apsis))\n",
    "        ordinat.append(''.join(temp_ordinat))\n",
    "    xcord = [eval(i) for i in apsis]\n",
    "    ycord = [eval(i) for i in ordinat]\n",
    "    return([xcord,ycord])"
   ]
  },
  {
   "cell_type": "code",
   "execution_count": 14,
   "id": "05c882f3",
   "metadata": {
    "colab": {
     "base_uri": "https://localhost:8080/"
    },
    "id": "05c882f3",
    "outputId": "be04214f-010e-4cb9-d3ba-a98dadafb96c"
   },
   "outputs": [
    {
     "data": {
      "text/plain": [
       "[[35.16253, 42.45432, 38.38741, 27.22521, 30.40333, 41.94134, 38.27629],\n",
       " [42.02683, 37.51393, 40.91698, 41.73508, 40.78056, 37.9293, 37.76441]]"
      ]
     },
     "execution_count": 14,
     "metadata": {},
     "output_type": "execute_result"
    }
   ],
   "source": [
    "coordinate_parser(nrrng)"
   ]
  },
  {
   "cell_type": "code",
   "execution_count": 15,
   "id": "0ac7829c",
   "metadata": {
    "id": "0ac7829c",
    "scrolled": false
   },
   "outputs": [],
   "source": [
    "# to do: complete route calculator function\n",
    "\n",
    "def distance_calculator(route):\n",
    "\n",
    "    coords=coordinate_parser(route)\n",
    "\n",
    "    distance = np.array(0)\n",
    "    for city in range(len(coords[0])-1):\n",
    "        x2_x1 = np.subtract(coords[0][city+1],coords[0][city])\n",
    "        y2_y1 = np.subtract(coords[1][city+1],coords[1][city])\n",
    "        squared_x2_x1  = np.square(x2_x1)\n",
    "        squared_y2_y1  = np.square(y2_y1)\n",
    "        sum_of_squares = np.sum([squared_x2_x1,squared_y2_y1])\n",
    "        distance_between_two_points = np.sqrt(sum_of_squares)\n",
    "        distance = np.sum([distance, distance_between_two_points])\n",
    "    \n",
    "    return(distance)\n"
   ]
  },
  {
   "cell_type": "code",
   "execution_count": 16,
   "id": "1620c3f1",
   "metadata": {
    "colab": {
     "base_uri": "https://localhost:8080/"
    },
    "id": "1620c3f1",
    "outputId": "a086657f-ae04-4169-c8ea-ecaa7474c3fc"
   },
   "outputs": [
    {
     "data": {
      "text/plain": [
       "43.942571190954766"
      ]
     },
     "execution_count": 16,
     "metadata": {},
     "output_type": "execute_result"
    }
   ],
   "source": [
    "distance_calculator(nrrng)"
   ]
  },
  {
   "cell_type": "code",
   "execution_count": 17,
   "id": "2822e75a",
   "metadata": {
    "id": "2822e75a"
   },
   "outputs": [],
   "source": [
    "def plot_route(route): # this function plots the route within city locations\n",
    "    \n",
    "    # get coordinates\n",
    "    coords  = coordinate_parser(route)\n",
    "    xcoords = coords[0]\n",
    "    ycoords = coords[1]\n",
    "    \n",
    "    # edit figure size\n",
    "    f = plt.figure()\n",
    "    f.set_figwidth(8)\n",
    "    f.set_figheight(8)\n",
    "\n",
    "    # line between spots \n",
    "    for i in range(0, len(xcoords), 1):\n",
    "        plt.plot(xcoords[i:i+3], ycoords[i:i+3], 'ro-')\n",
    "        plt.annotate(cities.iloc[i]['Name'],(xcord[i], ycord[i])) # write city names\n",
    "\n",
    "    plt.show()"
   ]
  },
  {
   "cell_type": "code",
   "execution_count": 18,
   "id": "0a628839",
   "metadata": {
    "colab": {
     "base_uri": "https://localhost:8080/",
     "height": 483
    },
    "id": "0a628839",
    "outputId": "41a7949a-f930-4dfe-cfd8-5b84fbef8399"
   },
   "outputs": [
    {
     "data": {
      "image/png": "[encoded data removed]",
      "text/plain": [
       "<Figure size 800x800 with 1 Axes>"
      ]
     },
     "metadata": {},
     "output_type": "display_data"
    }
   ],
   "source": [
    "plot_route(nrrng)"
   ]
  },
  {
   "cell_type": "code",
   "execution_count": 19,
   "id": "c474d214",
   "metadata": {
    "id": "c474d214",
    "scrolled": false
   },
   "outputs": [],
   "source": [
    "def create_initial_population(number_of_routes = NUMBER_OF_CITIES): # this function creates routes to start algorithm\n",
    "    routes = np.array([])\n",
    "    for i in range(number_of_routes-1):\n",
    "        route  = non_repeating_random_number_generator_zero_to_N(NUMBER_OF_CITIES)\n",
    "        if(i!=0) : routes = np.append(routes, [route], axis=0)\n",
    "        else     : routes = [route]\n",
    "    return routes"
   ]
  },
  {
   "cell_type": "code",
   "execution_count": 20,
   "id": "5147c2cd",
   "metadata": {
    "colab": {
     "base_uri": "https://localhost:8080/"
    },
    "id": "5147c2cd",
    "outputId": "2fb909e9-af0e-4b83-8c07-4be4b3c05983",
    "scrolled": false
   },
   "outputs": [
    {
     "name": "stdout",
     "output_type": "stream",
     "text": [
      "[[2 4 6 1 0 5 3]\n",
      " [4 0 1 6 5 2 3]\n",
      " [4 1 0 5 2 3 6]\n",
      " [4 3 5 0 6 2 1]\n",
      " [5 3 1 2 6 0 4]\n",
      " [2 3 4 6 5 0 1]]\n"
     ]
    }
   ],
   "source": [
    "population = create_initial_population()\n",
    "print(population)"
   ]
  },
  {
   "cell_type": "code",
   "execution_count": 21,
   "id": "d119b798",
   "metadata": {
    "id": "d119b798"
   },
   "outputs": [],
   "source": [
    "def route_distance_calculate(chromosome):\n",
    "  route_distances = np.array([])\n",
    "\n",
    "  for i in range(len(chromosome)):\n",
    "    mesafe = distance_calculator(chromosome[i])\n",
    "    if(i!=0):\n",
    "      route_distances = np.append(route_distances, [mesafe], axis=0)\n",
    "    else:\n",
    "      route_distances = [mesafe]\n",
    "\n",
    "  return route_distances"
   ]
  },
  {
   "cell_type": "code",
   "execution_count": 22,
   "id": "hSeZ4nERaca_",
   "metadata": {
    "colab": {
     "base_uri": "https://localhost:8080/"
    },
    "id": "hSeZ4nERaca_",
    "outputId": "6adb0b8c-c8ed-474a-b77c-9b8d9e0d4a15"
   },
   "outputs": [
    {
     "name": "stdout",
     "output_type": "stream",
     "text": [
      "[46.16983918 44.58861725 53.51190675 60.60615216 64.56599463 44.76164197]\n"
     ]
    }
   ],
   "source": [
    "distances = route_distance_calculate(population)\n",
    "print(distances)"
   ]
  },
  {
   "cell_type": "code",
   "execution_count": 23,
   "id": "dab287fd",
   "metadata": {},
   "outputs": [],
   "source": [
    "def fitness_calculate(chromosome):\n",
    "    fitness_points = np.zeros(len(chromosome), dtype=int)\n",
    "    distances = route_distance_calculate(chromosome)\n",
    "    fitness_points = np.divide(1.0, distances) \n",
    "    \n",
    "    return fitness_points\n",
    "    "
   ]
  },
  {
   "cell_type": "code",
   "execution_count": 24,
   "id": "f3051f95",
   "metadata": {},
   "outputs": [
    {
     "name": "stdout",
     "output_type": "stream",
     "text": [
      "[0.02165916 0.02242725 0.01868743 0.01649998 0.01548803 0.02234056]\n"
     ]
    }
   ],
   "source": [
    "fitness_points = fitness_calculate(population)\n",
    "print(fitness_points)"
   ]
  },
  {
   "cell_type": "code",
   "execution_count": null,
   "id": "a9963a23",
   "metadata": {},
   "outputs": [],
   "source": []
  }
 ],
 "metadata": {
  "colab": {
   "provenance": []
  },
  "kernelspec": {
   "display_name": "Python 3 (ipykernel)",
   "language": "python",
   "name": "python3"
  },
  "language_info": {
   "codemirror_mode": {
    "name": "ipython",
    "version": 3
   },
   "file_extension": ".py",
   "mimetype": "text/x-python",
   "name": "python",
   "nbconvert_exporter": "python",
   "pygments_lexer": "ipython3",
   "version": "3.9.12"
  }
 },
 "nbformat": 4,
 "nbformat_minor": 5
}
